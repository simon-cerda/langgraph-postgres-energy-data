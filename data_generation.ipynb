{
 "cells": [
  {
   "cell_type": "code",
   "execution_count": null,
   "id": "4c058a66",
   "metadata": {},
   "outputs": [],
   "source": [
    "import pandas as pd\n",
    "import numpy as np\n",
    "import yaml"
   ]
  },
  {
   "cell_type": "code",
   "execution_count": null,
   "id": "8b45e3f5",
   "metadata": {},
   "outputs": [],
   "source": [
    "# Ruta a tu archivo YAML\n",
    "ruta = r\"C:\\Users\\scerda\\Documents\\langgraph-postgres-energy-data\\src\\agent\\schema_context.yaml\"\n",
    "\n",
    "# Leer el archivo como string y convertirlo a dict\n",
    "with open(ruta, 'r', encoding='utf-8') as f:\n",
    "    schema = yaml.safe_load(f)"
   ]
  },
  {
   "cell_type": "code",
   "execution_count": 2,
   "id": "4fa8356b",
   "metadata": {},
   "outputs": [],
   "source": [
    "# get current date\n",
    "from datetime import datetime\n",
    "from datetime import timedelta\n",
    "\n",
    "date = datetime.now()"
   ]
  },
  {
   "cell_type": "code",
   "execution_count": null,
   "id": "ca92528c",
   "metadata": {},
   "outputs": [],
   "source": [
    "prompt = f\"\"\"You are a SQL expert and Data Analyst tasked with generating user questions and sql queries regarding a energy consumption `postgresql` database.\n",
    "Follow these strict guidelines:\n",
    "\n",
    "1. Write syntactically correct SQL for the `postgresql` dialect.  \n",
    "2. Use **only** the tables and columns provided below.  \n",
    "3. Do **not** use `SELECT *`; always specify only the relevant columns.  \n",
    "4. Include `JOIN`s when necessary, using primary keys appropriately.  \n",
    "5. Use proper identifier quoting based on the `postgresql` syntax.  \n",
    "6. Always prefix every table with its schema name.  \n",
    "7. Do **not** make assumptions or use any data that is not present in the table definitions.  \n",
    "8. If the question mentions an entity or name, assume it refers to a building name.  \n",
    "9. Preferred sources, depending on the requested granularity and time span:  \n",
    "   • Monthly data ­→ use **smart_buildings.energy_consumption_monthly_metrics**.  \n",
    "   • Weekly data ­→ use **smart_buildings.energy_consumption_weekly_metrics**. \n",
    "10. If the user makes a query for a building without specifying a period, generate a query with all the metrics of the current month.\n",
    "\n",
    "CURRENT DATE: {date}\n",
    "\n",
    "{schema}\n",
    "\n",
    "Use the following table as reference:\n",
    "\n",
    "Return **only** the a JSON with SQL query or List of queries no additional explanation or formatting. The JSon needs to be in a format to later on by transform into a dataframe\n",
    "\n",
    "\"\"\""
   ]
  },
  {
   "cell_type": "code",
   "execution_count": 5,
   "id": "8103a34c",
   "metadata": {},
   "outputs": [
    {
     "name": "stdout",
     "output_type": "stream",
     "text": [
      "Response(id='resp_681a3959281c8191bae7d91fa161024f0c1d236cddfba1a9', created_at=1746549081.0, error=None, incomplete_details=None, instructions=None, metadata={}, model='gpt-4.1-2025-04-14', object='response', output=[ResponseOutputMessage(id='msg_681a3959c5948191886838ab4bb8551f0c1d236cddfba1a9', content=[ResponseOutputText(annotations=[], text='{\\n  \"queries\": [\\n    {\\n      \"sql\": \"SELECT b.\\\\\"name\\\\\" AS building_name, m.\\\\\"year_month\\\\\", m.\\\\\"total_consumption_kwh\\\\\", m.\\\\\"total_consumption_prev_month_kwh\\\\\", m.\\\\\"diff_pct_consumption_prev_month\\\\\" FROM smart_buildings.\\\\\"building\\\\\" b JOIN smart_buildings.\\\\\"energy_consumption_monthly_metrics\\\\\" m ON b.\\\\\"cups\\\\\" = m.\\\\\"cups\\\\\" WHERE b.\\\\\"name\\\\\" = \\'X\\' AND m.\\\\\"year_month\\\\\" = DATE_TRUNC(\\'month\\', CURRENT_DATE) ORDER BY m.\\\\\"year_month\\\\\" DESC LIMIT 1;\"\\n    },\\n    {\\n      \"sql\": \"SELECT b.\\\\\"name\\\\\" AS building_name, m.\\\\\"year_month\\\\\", m.\\\\\"total_consumption_kwh\\\\\", m.\\\\\"total_consumption_prev_year_same_month_kwh\\\\\", (m.\\\\\"total_consumption_kwh\\\\\" - m.\\\\\"total_consumption_prev_year_same_month_kwh\\\\\") AS diff_kwh FROM smart_buildings.\\\\\"building\\\\\" b JOIN smart_buildings.\\\\\"energy_consumption_monthly_metrics\\\\\" m ON b.\\\\\"cups\\\\\" = m.\\\\\"cups\\\\\" WHERE b.\\\\\"name\\\\\" = \\'X\\' AND m.\\\\\"year_month\\\\\" = DATE_TRUNC(\\'month\\', CURRENT_DATE) ORDER BY m.\\\\\"year_month\\\\\" DESC LIMIT 1;\"\\n    },\\n    {\\n      \"sql\": \"SELECT b.\\\\\"name\\\\\" AS building_name, m.\\\\\"year_month\\\\\", m.\\\\\"total_consumption_kwh\\\\\" FROM smart_buildings.\\\\\"building\\\\\" b JOIN smart_buildings.\\\\\"energy_consumption_monthly_metrics\\\\\" m ON b.\\\\\"cups\\\\\" = m.\\\\\"cups\\\\\" WHERE b.\\\\\"name\\\\\" = \\'X\\' AND m.\\\\\"year_month\\\\\" = DATE \\'2024-03-01\\';\"\\n    },\\n    {\\n      \"sql\": \"SELECT b.\\\\\"name\\\\\" AS building_name, m.\\\\\"year_month\\\\\", m.\\\\\"total_consumption_prev_month_kwh\\\\\" FROM smart_buildings.\\\\\"building\\\\\" b JOIN smart_buildings.\\\\\"energy_consumption_monthly_metrics\\\\\" m ON b.\\\\\"cups\\\\\" = m.\\\\\"cups\\\\\" WHERE b.\\\\\"name\\\\\" = \\'X\\' AND m.\\\\\"year_month\\\\\" = DATE \\'2024-03-01\\';\"\\n    },\\n    {\\n      \"sql\": \"SELECT b.\\\\\"name\\\\\" AS building_name, m.\\\\\"year_month\\\\\", m.\\\\\"ytd_consumption_kwh\\\\\" FROM smart_buildings.\\\\\"building\\\\\" b JOIN smart_buildings.\\\\\"energy_consumption_monthly_metrics\\\\\" m ON b.\\\\\"cups\\\\\" = m.\\\\\"cups\\\\\" WHERE b.\\\\\"name\\\\\" = \\'X\\' AND m.\\\\\"year_month\\\\\" = DATE_TRUNC(\\'month\\', CURRENT_DATE) ORDER BY m.\\\\\"year_month\\\\\" DESC LIMIT 1;\"\\n    },\\n    {\\n      \"sql\": \"SELECT b.\\\\\"name\\\\\" AS building_name, m.\\\\\"year_month\\\\\", m.\\\\\"ytd_consumption_kwh\\\\\", m.\\\\\"ytd_prev_year_consumption_kwh\\\\\" FROM smart_buildings.\\\\\"building\\\\\" b JOIN smart_buildings.\\\\\"energy_consumption_monthly_metrics\\\\\" m ON b.\\\\\"cups\\\\\" = m.\\\\\"cups\\\\\" WHERE b.\\\\\"name\\\\\" = \\'X\\' AND m.\\\\\"year_month\\\\\" = DATE_TRUNC(\\'month\\', CURRENT_DATE) ORDER BY m.\\\\\"year_month\\\\\" DESC LIMIT 1;\"\\n    }\\n  ]\\n}', type='output_text')], role='assistant', status='completed', type='message')], parallel_tool_calls=True, temperature=1.0, tool_choice='auto', tools=[], top_p=1.0, max_output_tokens=None, previous_response_id=None, reasoning=Reasoning(effort=None, generate_summary=None, summary=None), status='completed', text=ResponseTextConfig(format=ResponseFormatText(type='text')), truncation='disabled', usage=ResponseUsage(input_tokens=1494, input_tokens_details=InputTokensDetails(cached_tokens=0), output_tokens=654, output_tokens_details=OutputTokensDetails(reasoning_tokens=0), total_tokens=2148), user=None, service_tier='default', store=True)\n"
     ]
    }
   ],
   "source": [
    "from openai import OpenAI\n",
    "\n",
    "client = OpenAI()\n",
    "\n",
    "response = client.responses.create(\n",
    "  model=\"gpt-4.1\",\n",
    "  input=prompt\n",
    ")\n",
    "print(response)\n",
    "\n",
    "\n"
   ]
  },
  {
   "cell_type": "code",
   "execution_count": 18,
   "id": "b805c987",
   "metadata": {},
   "outputs": [
    {
     "name": "stdout",
     "output_type": "stream",
     "text": [
      "{\n",
      "  \"queries\": [\n",
      "    {\n",
      "      \"sql\": \"SELECT b.\\\"name\\\" AS building_name, m.\\\"year_month\\\", m.\\\"total_consumption_kwh\\\", m.\\\"total_consumption_prev_month_kwh\\\", m.\\\"diff_pct_consumption_prev_month\\\" FROM smart_buildings.\\\"building\\\" b JOIN smart_buildings.\\\"energy_consumption_monthly_metrics\\\" m ON b.\\\"cups\\\" = m.\\\"cups\\\" WHERE b.\\\"name\\\" = 'X' AND m.\\\"year_month\\\" = DATE_TRUNC('month', CURRENT_DATE) ORDER BY m.\\\"year_month\\\" DESC LIMIT 1;\"\n",
      "    },\n",
      "    {\n",
      "      \"sql\": \"SELECT b.\\\"name\\\" AS building_name, m.\\\"year_month\\\", m.\\\"total_consumption_kwh\\\", m.\\\"total_consumption_prev_year_same_month_kwh\\\", (m.\\\"total_consumption_kwh\\\" - m.\\\"total_consumption_prev_year_same_month_kwh\\\") AS diff_kwh FROM smart_buildings.\\\"building\\\" b JOIN smart_buildings.\\\"energy_consumption_monthly_metrics\\\" m ON b.\\\"cups\\\" = m.\\\"cups\\\" WHERE b.\\\"name\\\" = 'X' AND m.\\\"year_month\\\" = DATE_TRUNC('month', CURRENT_DATE) ORDER BY m.\\\"year_month\\\" DESC LIMIT 1;\"\n",
      "    },\n",
      "    {\n",
      "      \"sql\": \"SELECT b.\\\"name\\\" AS building_name, m.\\\"year_month\\\", m.\\\"total_consumption_kwh\\\" FROM smart_buildings.\\\"building\\\" b JOIN smart_buildings.\\\"energy_consumption_monthly_metrics\\\" m ON b.\\\"cups\\\" = m.\\\"cups\\\" WHERE b.\\\"name\\\" = 'X' AND m.\\\"year_month\\\" = DATE '2024-03-01';\"\n",
      "    },\n",
      "    {\n",
      "      \"sql\": \"SELECT b.\\\"name\\\" AS building_name, m.\\\"year_month\\\", m.\\\"total_consumption_prev_month_kwh\\\" FROM smart_buildings.\\\"building\\\" b JOIN smart_buildings.\\\"energy_consumption_monthly_metrics\\\" m ON b.\\\"cups\\\" = m.\\\"cups\\\" WHERE b.\\\"name\\\" = 'X' AND m.\\\"year_month\\\" = DATE '2024-03-01';\"\n",
      "    },\n",
      "    {\n",
      "      \"sql\": \"SELECT b.\\\"name\\\" AS building_name, m.\\\"year_month\\\", m.\\\"ytd_consumption_kwh\\\" FROM smart_buildings.\\\"building\\\" b JOIN smart_buildings.\\\"energy_consumption_monthly_metrics\\\" m ON b.\\\"cups\\\" = m.\\\"cups\\\" WHERE b.\\\"name\\\" = 'X' AND m.\\\"year_month\\\" = DATE_TRUNC('month', CURRENT_DATE) ORDER BY m.\\\"year_month\\\" DESC LIMIT 1;\"\n",
      "    },\n",
      "    {\n",
      "      \"sql\": \"SELECT b.\\\"name\\\" AS building_name, m.\\\"year_month\\\", m.\\\"ytd_consumption_kwh\\\", m.\\\"ytd_prev_year_consumption_kwh\\\" FROM smart_buildings.\\\"building\\\" b JOIN smart_buildings.\\\"energy_consumption_monthly_metrics\\\" m ON b.\\\"cups\\\" = m.\\\"cups\\\" WHERE b.\\\"name\\\" = 'X' AND m.\\\"year_month\\\" = DATE_TRUNC('month', CURRENT_DATE) ORDER BY m.\\\"year_month\\\" DESC LIMIT 1;\"\n",
      "    }\n",
      "  ]\n",
      "}\n"
     ]
    }
   ],
   "source": [
    "print(response.output_text)"
   ]
  },
  {
   "cell_type": "markdown",
   "id": "07b013f7",
   "metadata": {},
   "source": [
    "| Pregunta                                                                                       | Consulta SQL                                                                                                                                                                                                                                                                                                                                                      |\n",
    "|------------------------------------------------------------------------------------------------|-------------------------------------------------------------------------------------------------------------------------------------------------------------------------------------------------------------------------------------------------------------------------------------------------------------------------------------------------------------------|\n",
    "| ¿Qué diferencia hubo en el consumo del edificio X entre este mes y el mes anterior?            | `SELECT b.\"name\" AS building_name, m.\"year_month\", m.\"total_consumption_kwh\", m.\"total_consumption_prev_month_kwh\", m.\"diff_pct_consumption_prev_month\" FROM smart_buildings.\"building\" b JOIN smart_buildings.\"energy_consumption_monthly_metrics\" m ON b.\"cups\" = m.\"cups\" WHERE b.\"name\" = 'X' AND m.\"year_month\" = DATE_TRUNC('month', CURRENT_DATE) ORDER BY m.\"year_month\" DESC LIMIT 1;` |\n",
    "| ¿Cómo cambió el consumo energético del edificio X este mes respecto al mismo mes del año pasado? | `SELECT b.\"name\" AS building_name, m.\"year_month\", m.\"total_consumption_kwh\", m.\"total_consumption_prev_year_same_month_kwh\", (m.\"total_consumption_kwh\" - m.\"total_consumption_prev_year_same_month_kwh\") AS diff_kwh FROM smart_buildings.\"building\" b JOIN smart_buildings.\"energy_consumption_monthly_metrics\" m ON b.\"cups\" = m.\"cups\" WHERE b.\"name\" = 'X' AND m.\"year_month\" = DATE_TRUNC('month', CURRENT_DATE) ORDER BY m.\"year_month\" DESC LIMIT 1;` |\n",
    "| ¿Cuál ha sido el consumo total del edificio X en marzo 2024?                                   | `SELECT b.\"name\" AS building_name, m.\"year_month\", m.\"total_consumption_kwh\" FROM smart_buildings.\"building\" b JOIN smart_buildings.\"energy_consumption_monthly_metrics\" m ON b.\"cups\" = m.\"cups\" WHERE b.\"name\" = 'X' AND m.\"year_month\" = DATE '2024-03-01';`                                                                                                 |\n",
    "| ¿Y cómo se compara con el mes anterior? (requiere que el sistema entienda contexto previo)     | `SELECT b.\"name\" AS building_name, m.\"year_month\", m.\"total_consumption_prev_month_kwh\" FROM smart_buildings.\"building\" b JOIN smart_buildings.\"energy_consumption_monthly_metrics\" m ON b.\"cups\" = m.\"cups\" WHERE b.\"name\" = 'X' AND m.\"year_month\" = DATE '2024-03-01';`                                                                                      |\n",
    "| ¿Cuál es el consumo acumulado (YTD) del edificio X en lo que va del año?                       | `SELECT b.\"name\" AS building_name, m.\"year_month\", m.\"ytd_consumption_kwh\" FROM smart_buildings.\"building\" b JOIN smart_buildings.\"energy_consumption_monthly_metrics\" m ON b.\"cups\" = m.\"cups\" WHERE b.\"name\" = 'X' AND m.\"year_month\" = DATE_TRUNC('month', CURRENT_DATE) ORDER BY m.\"year_month\" DESC LIMIT 1;`                                                |\n",
    "| ¿Y cómo se compara ese YTD con el año pasado en la misma fecha?                                | `SELECT b.\"name\" AS building_name, m.\"year_month\", m.\"ytd_consumption_kwh\", m.\"ytd_prev_year_consumption_kwh\" FROM smart_buildings.\"building\" b JOIN smart_buildings.\"energy_consumption_monthly_metrics\" m ON b.\"cups\" = m.\"cups\" WHERE b.\"name\" = 'X' AND m.\"year_month\" = DATE_TRUNC('month', CURRENT_DATE) ORDER BY m.\"year_month\" DESC LIMIT 1;`             |\n"
   ]
  },
  {
   "cell_type": "code",
   "execution_count": null,
   "id": "0bf83cfa",
   "metadata": {},
   "outputs": [],
   "source": [
    "[\n",
    "  {\n",
    "    \"pregunta\": \"¿Qué diferencia hubo en el consumo del edificio Hospital Margarita entre este mes y el mes anterior?\",\n",
    "    \"relevant_values\":{\"name\":[\"Hospital Santa Margarita\",\"Hospital Maria\"]},\n",
    "    \"consulta_sql\": \"SELECT b.\\\"name\\\" AS building_name, m.\\\"year_month\\\", m.\\\"total_consumption_kwh\\\", m.\\\"total_consumption_prev_month_kwh\\\", m.\\\"diff_pct_consumption_prev_month\\\" FROM smart_buildings.\\\"building\\\" b JOIN smart_buildings.\\\"energy_consumption_monthly_metrics\\\" m ON b.\\\"cups\\\" = m.\\\"cups\\\" WHERE b.\\\"name\\\" = 'Hospital Santa Margarita' AND m.\\\"year_month\\\" = DATE_TRUNC('month', CURRENT_DATE) ORDER BY m.\\\"year_month\\\" DESC LIMIT 1;\"\n",
    "  },\n",
    "  {\n",
    "    \"pregunta\": \"¿Cómo cambió el consumo energético del edificio Escola de Arboles este mes respecto al mismo mes del año pasado?\",\n",
    "    \"relevant_values\":{\"name\":[\"Escuela de Arboles\",\"Escuala Augusto\"]},\n",
    "    \"consulta_sql\": \"SELECT b.\\\"name\\\" AS building_name, m.\\\"year_month\\\", m.\\\"total_consumption_kwh\\\", m.\\\"total_consumption_prev_year_same_month_kwh\\\", (m.\\\"total_consumption_kwh\\\" - m.\\\"total_consumption_prev_year_same_month_kwh\\\") AS diff_kwh FROM smart_buildings.\\\"building\\\" b JOIN smart_buildings.\\\"energy_consumption_monthly_metrics\\\" m ON b.\\\"cups\\\" = m.\\\"cups\\\" WHERE b.\\\"name\\\" = 'Escuela de Arboles' AND m.\\\"year_month\\\" = DATE_TRUNC('month', CURRENT_DATE) ORDER BY m.\\\"year_month\\\" DESC LIMIT 1;\"\n",
    "  },\n",
    "  {\n",
    "    \"pregunta\": \"¿Cuál ha sido el consumo total del edificio Escuela de Girona en marzo 2024?\",\n",
    "     \"relevant_values\":{\"name\":[\"Escola de Girona\",\"Escuela de Ginebra\"]},\n",
    "    \"consulta_sql\": \"SELECT b.\\\"name\\\" AS building_name, m.\\\"year_month\\\", m.\\\"total_consumption_kwh\\\" FROM smart_buildings.\\\"building\\\" b JOIN smart_buildings.\\\"energy_consumption_monthly_metrics\\\" m ON b.\\\"cups\\\" = m.\\\"cups\\\" WHERE b.\\\"name\\\" = 'Escola de Girona' AND m.\\\"year_month\\\" = DATE '2024-03-01';\"\n",
    "  },\n",
    "  {\n",
    "    \"pregunta\": \"¿Y cómo se compara con el mes anterior?\",\n",
    "    \"relevant_values\":{\"name\":[]},\n",
    "    \"consulta_sql\": \"SELECT b.\\\"name\\\" AS building_name, m.\\\"year_month\\\", m.\\\"total_consumption_prev_month_kwh\\\" FROM smart_buildings.\\\"building\\\" b JOIN smart_buildings.\\\"energy_consumption_monthly_metrics\\\" m ON b.\\\"cups\\\" = m.\\\"cups\\\" WHERE b.\\\"name\\\" = 'Escola de Girona' AND m.\\\"year_month\\\" = DATE '2024-03-01';\"\n",
    "  },\n",
    "  {\n",
    "    \"pregunta\": \"¿Cuál es el consumo acumulado (YTD) del edificio Imperial Norte en lo que va del año?\",\n",
    "    \"relevant_values\":{\"name\":[\"Imperial Norte\"]},\n",
    "    \"consulta_sql\": \"SELECT b.\\\"name\\\" AS building_name, m.\\\"year_month\\\", m.\\\"ytd_consumption_kwh\\\" FROM smart_buildings.\\\"building\\\" b JOIN smart_buildings.\\\"energy_consumption_monthly_metrics\\\" m ON b.\\\"cups\\\" = m.\\\"cups\\\" WHERE b.\\\"name\\\" = 'Imperial Norte' AND m.\\\"year_month\\\" = DATE_TRUNC('month', CURRENT_DATE) ORDER BY m.\\\"year_month\\\" DESC LIMIT 1;\"\n",
    "  },\n",
    "  {\n",
    "    \"pregunta\": \"¿Y cómo se compara ese YTD con el año pasado en la misma fecha?\",\n",
    "    \"consulta_sql\": \"SELECT b.\\\"name\\\" AS building_name, m.\\\"year_month\\\", m.\\\"ytd_consumption_kwh\\\", m.\\\"ytd_prev_year_consumption_kwh\\\" FROM smart_buildings.\\\"building\\\" b JOIN smart_buildings.\\\"energy_consumption_monthly_metrics\\\" m ON b.\\\"cups\\\" = m.\\\"cups\\\" WHERE b.\\\"name\\\" = 'Imperial Norte' AND m.\\\"year_month\\\" = DATE_TRUNC('month', CURRENT_DATE) ORDER BY m.\\\"year_month\\\" DESC LIMIT 1;\"\n",
    "  },\n",
    "    {\n",
    "  \"pregunta\":\"Cual es el edificio con mayor consumo en abril y cuanto cambio en comparación con el mes anterior?\",\n",
    "  \"relevant_values\":{\"name\":[]},\n",
    "  \"consulta_sql\":\"SELECT b.\\\"name\\\" AS building_name, m.\\\"year_month\\\", m.\\\"total_consumption_kwh\\\", m.\\\"total_consumption_prev_month_kwh\\\", (m.\\\"total_consumption_kwh\\\" - m.\\\"total_consumption_prev_month_kwh\\\") AS diff_kwh FROM smart_buildings.\\\"building\\\" b JOIN smart_buildings.\\\"energy_consumption_monthly_metrics\\\" m ON b.\\\"cups\\\" = m.\\\"cups\\\" WHERE m.\\\"year_month\\\" = DATE '2024-04-01' ORDER BY m.\\\"total_consumption_kwh\\\" DESC LIMIT 1;\"\n",
    "  },\n",
    "    {\n",
    "    \"pregunta\":\"Cual es el edificio con menor consumo en abril y cuanto cambio en comparación con el mes anterior?\",\n",
    "    \"relevant_values\":{\"name\":[]},\n",
    "    \"consulta_sql\":\"SELECT b.\\\"name\\\" AS building_name, m.\\\"year_month\\\", m.\\\"total_consumption_kwh\\\", m.\\\"total_consumption_prev_month_kwh\\\", (m.\\\"total_consumption_kwh\\\" - m.\\\"total_consumption_prev_month_kwh\\\") AS diff_kwh FROM smart_buildings.\\\"building\\\" b JOIN smart_buildings.\\\"energy_consumption_monthly_metrics\\\" m ON b.\\\"cups\\\" = m.\\\"cups\\\" WHERE m.\\\"year_month\\\" = DATE '2024-04-01' ORDER BY m.\\\"total_consumption_kwh\\\" ASC LIMIT 1;\"\n",
    "  },\n",
    "]\n"
   ]
  }
 ],
 "metadata": {
  "kernelspec": {
   "display_name": "venv",
   "language": "python",
   "name": "python3"
  },
  "language_info": {
   "codemirror_mode": {
    "name": "ipython",
    "version": 3
   },
   "file_extension": ".py",
   "mimetype": "text/x-python",
   "name": "python",
   "nbconvert_exporter": "python",
   "pygments_lexer": "ipython3",
   "version": "3.13.2"
  }
 },
 "nbformat": 4,
 "nbformat_minor": 5
}
