{
 "cells": [
  {
   "cell_type": "code",
   "execution_count": 13,
   "metadata": {},
   "outputs": [
    {
     "name": "stdout",
     "output_type": "stream",
     "text": [
      "SQLite Version: 3.45.2\n"
     ]
    }
   ],
   "source": [
    "from sqlalchemy import create_engine,text,inspect\n",
    "\n",
    "# Replace 'your_database.db' with the path to your SQLite file\n",
    "db_path = \"energy_consumption.db\"\n",
    "engine = create_engine(f\"sqlite:///{db_path}\")\n",
    "\n",
    "# Test the connection\n",
    "with engine.connect() as connection:\n",
    "    result = connection.execute(text(\"SELECT sqlite_version();\"))\n",
    "    print(\"SQLite Version:\", result.scalar())"
   ]
  },
  {
   "cell_type": "code",
   "execution_count": 15,
   "metadata": {},
   "outputs": [
    {
     "name": "stdout",
     "output_type": "stream",
     "text": [
      "Table Names: ['buildings', 'energy_metrics', 'weather_data']\n",
      "Table Schema:\n",
      "\n",
      "buildings\n",
      "building_id: INTEGER (nullable: True)\n",
      "name: TEXT (nullable: False)\n",
      "building_type: TEXT (nullable: False)\n",
      "construction_year: INTEGER (nullable: True)\n",
      "total_area: REAL (nullable: True)\n",
      "cluster_id: INTEGER (nullable: True)\n",
      "location: TEXT (nullable: True)\n",
      "address: TEXT (nullable: True)\n",
      "floors: INTEGER (nullable: True)\n",
      "occupancy_rate: REAL (nullable: True)\n",
      "heating_type: TEXT (nullable: True)\n",
      "cooling_type: TEXT (nullable: True)\n",
      "last_renovation_year: INTEGER (nullable: True)\n",
      "energy_certificate: TEXT (nullable: True)\n",
      "\n",
      "energy_metrics\n",
      "metric_id: INTEGER (nullable: True)\n",
      "building_id: INTEGER (nullable: True)\n",
      "date: DATE (nullable: True)\n",
      "weekly_consumption_kwh: REAL (nullable: True)\n",
      "monthly_consumption_kwh: REAL (nullable: True)\n",
      "last_week_consumption_kwh: REAL (nullable: True)\n",
      "last_month_consumption_kwh: REAL (nullable: True)\n",
      "consumption_vs_cluster_pct: REAL (nullable: True)\n",
      "consumption_vs_type_pct: REAL (nullable: True)\n",
      "temperature_avg: REAL (nullable: True)\n",
      "humidity_avg: REAL (nullable: True)\n",
      "peak_hourly_consumption_kwh: REAL (nullable: True)\n",
      "offpeak_consumption_kwh: REAL (nullable: True)\n",
      "weekend_consumption_kwh: REAL (nullable: True)\n",
      "weekday_consumption_kwh: REAL (nullable: True)\n",
      "\n",
      "weather_data\n",
      "weather_id: INTEGER (nullable: True)\n",
      "location: TEXT (nullable: True)\n",
      "date: DATE (nullable: True)\n",
      "avg_temperature: REAL (nullable: True)\n",
      "min_temperature: REAL (nullable: True)\n",
      "max_temperature: REAL (nullable: True)\n",
      "precipitation: REAL (nullable: True)\n",
      "humidity: REAL (nullable: True)\n",
      "wind_speed: REAL (nullable: True)\n"
     ]
    }
   ],
   "source": [
    "def get_table_names(db_path):\n",
    "    \"\"\"Returns a list of table names in the SQLite database.\"\"\"\n",
    "    engine = create_engine(f\"sqlite:///{db_path}\")\n",
    "    inspector = inspect(engine)\n",
    "    return inspector.get_table_names()\n",
    "\n",
    "def get_table_schema(db_path, table_names):\n",
    "    \"\"\"Returns a dictionary containing schema details for given table names.\"\"\"\n",
    "    engine = create_engine(f\"sqlite:///{db_path}\")\n",
    "    inspector = inspect(engine)\n",
    "    \n",
    "    schema = {}\n",
    "    for table in table_names:\n",
    "        columns = inspector.get_columns(table)\n",
    "        schema[table] = [\n",
    "            {\"name\": col[\"name\"], \"type\": str(col[\"type\"]), \"nullable\": col[\"nullable\"]}\n",
    "            for col in columns\n",
    "        ]\n",
    "    \n",
    "    return schema\n",
    "\n",
    "table_names = get_table_names(db_path)\n",
    "print(\"Table Names:\", table_names)\n",
    "\n",
    "table_schema = get_table_schema(db_path, table_names)\n",
    "print(\"Table Schema:\")\n",
    "for table, columns in table_schema.items():\n",
    "    print(f\"\\n{table}\")\n",
    "    for col in columns:\n",
    "        print(f\"{col['name']}: {col['type']} (nullable: {col['nullable']})\")"
   ]
  }
 ],
 "metadata": {
  "kernelspec": {
   "display_name": "ml",
   "language": "python",
   "name": "python3"
  },
  "language_info": {
   "codemirror_mode": {
    "name": "ipython",
    "version": 3
   },
   "file_extension": ".py",
   "mimetype": "text/x-python",
   "name": "python",
   "nbconvert_exporter": "python",
   "pygments_lexer": "ipython3",
   "version": "3.11.8"
  }
 },
 "nbformat": 4,
 "nbformat_minor": 2
}
