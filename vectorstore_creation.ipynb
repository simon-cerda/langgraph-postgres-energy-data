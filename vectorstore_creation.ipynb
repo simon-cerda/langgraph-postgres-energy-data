{
 "cells": [
  {
   "cell_type": "code",
   "execution_count": 4,
   "id": "23e8d922",
   "metadata": {},
   "outputs": [
    {
     "name": "stdout",
     "output_type": "stream",
     "text": [
      "Índice guardado en sql_vectorstore.pkl\n"
     ]
    }
   ],
   "source": [
    "import pandas as pd\n",
    "import pickle\n",
    "from sentence_transformers import SentenceTransformer\n",
    "import faiss\n",
    "import numpy as np\n",
    "\n",
    "# 1. Cargar los datos del CSV\n",
    "df = pd.read_csv('training_v2.csv',sep=\";\")  # Asegúrate de poner el path correcto\n",
    "questions = df['question'].tolist()\n",
    "sqls = df['sql_parsed'].tolist()\n",
    "\n",
    "# 2. Crear los embeddings de las preguntas\n",
    "model = SentenceTransformer('all-MiniLM-L6-v2')  # O cualquier modelo SBERT que prefieras\n",
    "embeddings = model.encode(questions, convert_to_numpy=True)\n",
    "\n",
    "# 3. Crear el índice FAISS\n",
    "dimension = embeddings.shape[1]\n",
    "index = faiss.IndexFlatL2(dimension)\n",
    "index.add(embeddings)\n",
    "\n",
    "# 4. Guardar el índice y los valores en un dict y luego en un .pkl\n",
    "sql_vectorstore = {\n",
    "    \"index\": index,\n",
    "    \"values\": list(zip(questions, sqls))\n",
    "}\n",
    "\n",
    "# Guardar usando pickle (usa protocolo 4 o superior para objetos grandes)\n",
    "with open('sql_vectorstore.pkl', 'wb') as f:\n",
    "    pickle.dump(sql_vectorstore, f, protocol=4)\n",
    "\n",
    "print(\"Índice guardado en sql_vectorstore.pkl\")\n"
   ]
  }
 ],
 "metadata": {
  "kernelspec": {
   "display_name": "venv",
   "language": "python",
   "name": "python3"
  },
  "language_info": {
   "codemirror_mode": {
    "name": "ipython",
    "version": 3
   },
   "file_extension": ".py",
   "mimetype": "text/x-python",
   "name": "python",
   "nbconvert_exporter": "python",
   "pygments_lexer": "ipython3",
   "version": "3.13.2"
  }
 },
 "nbformat": 4,
 "nbformat_minor": 5
}
